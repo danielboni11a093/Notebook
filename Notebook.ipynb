{
 "cells": [
  {
   "cell_type": "code",
   "execution_count": 2,
   "metadata": {},
   "outputs": [
    {
     "name": "stdout",
     "output_type": "stream",
     "text": [
      "3600 seconds in an hour\n",
      "86400 seconds in a day\n",
      "24.0\n",
      "24\n"
     ]
    }
   ],
   "source": [
    "seconds_per_min = 60\n",
    "min_per_hour = 60\n",
    "seconds_per_hour = (seconds_per_min * min_per_hour)\n",
    "seconds_per_day = (seconds_per_hour * 24)\n",
    "floating =(seconds_per_day/seconds_per_hour)\n",
    "integ = (seconds_per_day//seconds_per_hour)\n",
    "\n",
    "print (f'{seconds_per_hour} seconds in an hour')\n",
    "print(f'{seconds_per_day} seconds in a day')\n",
    "print(floating)\n",
    "print(integ)"
   ]
  }
 ],
 "metadata": {
  "kernelspec": {
   "display_name": "Python 3",
   "language": "python",
   "name": "python3"
  },
  "language_info": {
   "codemirror_mode": {
    "name": "ipython",
    "version": 3
   },
   "file_extension": ".py",
   "mimetype": "text/x-python",
   "name": "python",
   "nbconvert_exporter": "python",
   "pygments_lexer": "ipython3",
   "version": "3.12.1"
  }
 },
 "nbformat": 4,
 "nbformat_minor": 2
}
